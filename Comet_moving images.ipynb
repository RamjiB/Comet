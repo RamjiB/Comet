{
 "cells": [
  {
   "cell_type": "code",
   "execution_count": 1,
   "metadata": {},
   "outputs": [],
   "source": [
    "import os,shutil"
   ]
  },
  {
   "cell_type": "code",
   "execution_count": 42,
   "metadata": {},
   "outputs": [],
   "source": [
    "undamaged_path = 'Ground truth comets/Controls/'\n",
    "damaged_path = 'Ground truth comets/Positive Control h202/'"
   ]
  },
  {
   "cell_type": "code",
   "execution_count": 65,
   "metadata": {},
   "outputs": [],
   "source": [
    "def copy_images(path,mode='undamaged'):\n",
    "    gender_undam_dam = os.listdir(path)\n",
    "#     gender_dam = os.listdir(undamaged_path)\n",
    "    i=1\n",
    "    for gender in gender_undam_dam:\n",
    "        folders = os.listdir(os.path.join(path,gender))\n",
    "        for folder in folders:\n",
    "            fold = os.listdir(os.path.join(path,gender,folder))\n",
    "            for f in fold:\n",
    "                if f == mode:\n",
    "                    images = os.listdir(os.path.join(path,gender,folder,f))\n",
    "                    for image in images:\n",
    "                        if image.endswith('.png'):\n",
    "                            src = os.path.join(path,gender,folder,f,image)\n",
    "                            dest = f'train/{mode}/'\n",
    "                            dest = dest + mode+'_'+str(i)+'.png'\n",
    "                            shutil.copy(src,dest)\n",
    "                            i+=1"
   ]
  },
  {
   "cell_type": "code",
   "execution_count": 66,
   "metadata": {},
   "outputs": [],
   "source": [
    "copy_images(undamaged_path,'undamaged')"
   ]
  },
  {
   "cell_type": "code",
   "execution_count": 67,
   "metadata": {},
   "outputs": [
    {
     "data": {
      "text/plain": [
       "535"
      ]
     },
     "execution_count": 67,
     "metadata": {},
     "output_type": "execute_result"
    }
   ],
   "source": [
    "len(os.listdir('train/undamaged/'))"
   ]
  },
  {
   "cell_type": "code",
   "execution_count": 68,
   "metadata": {},
   "outputs": [],
   "source": [
    "copy_images(damaged_path,'damaged')"
   ]
  },
  {
   "cell_type": "code",
   "execution_count": 69,
   "metadata": {},
   "outputs": [
    {
     "data": {
      "text/plain": [
       "479"
      ]
     },
     "execution_count": 69,
     "metadata": {},
     "output_type": "execute_result"
    }
   ],
   "source": [
    "len(os.listdir('train/damaged/'))"
   ]
  }
 ],
 "metadata": {
  "kernelspec": {
   "display_name": "Python 3",
   "language": "python",
   "name": "python3"
  },
  "language_info": {
   "codemirror_mode": {
    "name": "ipython",
    "version": 3
   },
   "file_extension": ".py",
   "mimetype": "text/x-python",
   "name": "python",
   "nbconvert_exporter": "python",
   "pygments_lexer": "ipython3",
   "version": "3.6.8"
  }
 },
 "nbformat": 4,
 "nbformat_minor": 2
}
